{
 "metadata": {
  "language_info": {
   "codemirror_mode": {
    "name": "ipython",
    "version": 3
   },
   "file_extension": ".py",
   "mimetype": "text/x-python",
   "name": "python",
   "nbconvert_exporter": "python",
   "pygments_lexer": "ipython3",
   "version": "3.7.6-final"
  },
  "orig_nbformat": 2,
  "kernelspec": {
   "name": "python3",
   "display_name": "Python 3.7.6 64-bit (conda)",
   "metadata": {
    "interpreter": {
     "hash": "e8fd100a2c8866ae2d3e8b85cd01e709724ac0af43a714c586c6afac94a5cb88"
    }
   }
  }
 },
 "nbformat": 4,
 "nbformat_minor": 2,
 "cells": [
  {
   "source": [
    "# Tensors"
   ],
   "cell_type": "markdown",
   "metadata": {}
  },
  {
   "source": [
    "In PyTorch, we use tensors to encode inputs and outputs of a model, as well as the model's parameters.  \n",
    "\n",
    "Tensors are similar to Numpy's ndarrays, except that tensors can run on GPUs or other hardware to accelerate computing. "
   ],
   "cell_type": "markdown",
   "metadata": {}
  },
  {
   "cell_type": "code",
   "execution_count": 1,
   "metadata": {},
   "outputs": [],
   "source": [
    "import torch\n",
    "import numpy as np"
   ]
  },
  {
   "source": [
    "## Tensor Initialization "
   ],
   "cell_type": "markdown",
   "metadata": {}
  },
  {
   "source": [
    "### Directly from data"
   ],
   "cell_type": "markdown",
   "metadata": {}
  },
  {
   "cell_type": "code",
   "execution_count": 2,
   "metadata": {},
   "outputs": [
    {
     "output_type": "stream",
     "name": "stdout",
     "text": [
      "[[1, 2], [3, 4]] tensor([[1, 2],\n        [3, 4]])\n"
     ]
    }
   ],
   "source": [
    "data = [[1, 2], [3, 4]]\n",
    "x_data = torch.tensor(data)\n",
    "print(data, x_data)"
   ]
  },
  {
   "source": [
    "### From a Numpy array"
   ],
   "cell_type": "markdown",
   "metadata": {}
  },
  {
   "cell_type": "code",
   "execution_count": 3,
   "metadata": {},
   "outputs": [
    {
     "output_type": "stream",
     "name": "stdout",
     "text": [
      "[[1 2]\n [3 4]] tensor([[1, 2],\n        [3, 4]], dtype=torch.int32)\n"
     ]
    }
   ],
   "source": [
    "np_array = np.array(data)\n",
    "x_np = torch.from_numpy(np_array)\n",
    "print(np_array, x_np)"
   ]
  },
  {
   "source": [
    "### From another tensor\n",
    "The new tensor retains the properties (shape, datatype, etc.) of the argument tensor, unless explicitly overridden."
   ],
   "cell_type": "markdown",
   "metadata": {}
  },
  {
   "cell_type": "code",
   "execution_count": 4,
   "metadata": {},
   "outputs": [
    {
     "output_type": "stream",
     "name": "stdout",
     "text": [
      "Ones Tensor: \n tensor([[1, 1],\n        [1, 1]]) \n\nRandom Tensor: \n tensor([[0.2093, 0.5540],\n        [0.4554, 0.2880]]) \n\n"
     ]
    }
   ],
   "source": [
    "x_ones = torch.ones_like(x_data)\n",
    "print(f\"Ones Tensor: \\n {x_ones} \\n\")\n",
    "\n",
    "x_rand = torch.rand_like(x_data, dtype=torch.float)\n",
    "print(f\"Random Tensor: \\n {x_rand} \\n\")"
   ]
  },
  {
   "source": [
    "### With random or constant values\n",
    "Shape is a tuple of tensor dimensions."
   ],
   "cell_type": "markdown",
   "metadata": {}
  },
  {
   "cell_type": "code",
   "execution_count": 8,
   "metadata": {},
   "outputs": [
    {
     "output_type": "stream",
     "name": "stdout",
     "text": [
      "Random Tensor: \n tensor([[[[0.8613, 0.6913, 0.5987, 0.9573, 0.8078],\n          [0.0586, 0.7480, 0.0604, 0.1908, 0.5255]],\n\n         [[0.8492, 0.0957, 0.2768, 0.3856, 0.1886],\n          [0.9923, 0.9237, 0.7892, 0.4579, 0.8463]],\n\n         [[0.1012, 0.3221, 0.8305, 0.9297, 0.8396],\n          [0.1169, 0.3381, 0.5853, 0.8617, 0.4281]]],\n\n\n        [[[0.4221, 0.1436, 0.9533, 0.7004, 0.0499],\n          [0.1768, 0.8002, 0.9216, 0.8986, 0.0479]],\n\n         [[0.5647, 0.1131, 0.6868, 0.1815, 0.4398],\n          [0.6489, 0.4839, 0.6928, 0.9092, 0.2308]],\n\n         [[0.0053, 0.0978, 0.7919, 0.6107, 0.5375],\n          [0.5823, 0.7241, 0.6325, 0.7930, 0.5152]]]]) \n\nOnes Tensor: \n tensor([[[[1., 1., 1., 1., 1.],\n          [1., 1., 1., 1., 1.]],\n\n         [[1., 1., 1., 1., 1.],\n          [1., 1., 1., 1., 1.]],\n\n         [[1., 1., 1., 1., 1.],\n          [1., 1., 1., 1., 1.]]],\n\n\n        [[[1., 1., 1., 1., 1.],\n          [1., 1., 1., 1., 1.]],\n\n         [[1., 1., 1., 1., 1.],\n          [1., 1., 1., 1., 1.]],\n\n         [[1., 1., 1., 1., 1.],\n          [1., 1., 1., 1., 1.]]]]) \n\nZeros Tensor: \n tensor([[[[0., 0., 0., 0., 0.],\n          [0., 0., 0., 0., 0.]],\n\n         [[0., 0., 0., 0., 0.],\n          [0., 0., 0., 0., 0.]],\n\n         [[0., 0., 0., 0., 0.],\n          [0., 0., 0., 0., 0.]]],\n\n\n        [[[0., 0., 0., 0., 0.],\n          [0., 0., 0., 0., 0.]],\n\n         [[0., 0., 0., 0., 0.],\n          [0., 0., 0., 0., 0.]],\n\n         [[0., 0., 0., 0., 0.],\n          [0., 0., 0., 0., 0.]]]]) \n\n"
     ]
    }
   ],
   "source": [
    "shape = (2, 3, 2, 5)\n",
    "rand_tensor = torch.rand(shape)\n",
    "ones_tensor = torch.ones(shape)\n",
    "zeros_tensor = torch.zeros(shape)\n",
    "\n",
    "print(f\"Random Tensor: \\n {rand_tensor} \\n\")\n",
    "print(f\"Ones Tensor: \\n {ones_tensor} \\n\")\n",
    "print(f\"Zeros Tensor: \\n {zeros_tensor} \\n\")"
   ]
  },
  {
   "source": [
    "## Tensor Attributes\n",
    "Tensors' shape, datatype, and the device on which they are stored."
   ],
   "cell_type": "markdown",
   "metadata": {}
  },
  {
   "cell_type": "code",
   "execution_count": 9,
   "metadata": {},
   "outputs": [
    {
     "output_type": "stream",
     "name": "stdout",
     "text": [
      "Shape of tensor: torch.Size([3, 4])\nDatatype of tensor: torch.float32\nDevice tensor is stored on: cpu\n"
     ]
    }
   ],
   "source": [
    "tensor = torch.rand(3, 4)\n",
    "\n",
    "print(f\"Shape of tensor: {tensor.shape}\")\n",
    "print(f\"Datatype of tensor: {tensor.dtype}\")\n",
    "print(f\"Device tensor is stored on: {tensor.device}\")"
   ]
  },
  {
   "source": [
    "## Tensor Operations\n",
    "Over 100:\n",
    "* Transposing\n",
    "* Indexing\n",
    "* Slicing\n",
    "* Mathematical Operations\n",
    "* Linear algebra\n",
    "* Random sampling"
   ],
   "cell_type": "markdown",
   "metadata": {}
  },
  {
   "source": [
    "Each of them can be run on the GPU (at typically higher speeds than on a CPU).  \n",
    "We move our tensor to the GPU if available: "
   ],
   "cell_type": "markdown",
   "metadata": {}
  },
  {
   "cell_type": "code",
   "execution_count": 11,
   "metadata": {},
   "outputs": [
    {
     "output_type": "execute_result",
     "data": {
      "text/plain": [
       "False"
      ]
     },
     "metadata": {},
     "execution_count": 11
    }
   ],
   "source": [
    "if torch.cuda.is_available():\n",
    "    tensor = tensor.to('cuda')\n",
    "\n",
    "torch.cuda.is_available()"
   ]
  },
  {
   "source": [
    "###  Standard numpy-like indexing and slicing"
   ],
   "cell_type": "markdown",
   "metadata": {}
  },
  {
   "cell_type": "code",
   "execution_count": 13,
   "metadata": {},
   "outputs": [
    {
     "output_type": "stream",
     "name": "stdout",
     "text": [
      "tensor([[1., 1., 1., 1.],\n        [1., 1., 1., 1.],\n        [1., 1., 1., 1.],\n        [1., 1., 1., 1.]])\ntensor([[1., 0., 1., 1.],\n        [1., 0., 1., 1.],\n        [1., 0., 1., 1.],\n        [1., 0., 1., 1.]])\n"
     ]
    }
   ],
   "source": [
    "tensor = torch.ones(4, 4)\n",
    "print(tensor)\n",
    "tensor[:, 1] = 0\n",
    "print(tensor)"
   ]
  },
  {
   "source": [
    "### Joining tensors  \n",
    "Concatenate a sequence of tensors along a given dimension.\n",
    "See also `torch.stack` for another tensor joining."
   ],
   "cell_type": "markdown",
   "metadata": {}
  },
  {
   "cell_type": "code",
   "execution_count": 14,
   "metadata": {},
   "outputs": [
    {
     "output_type": "stream",
     "name": "stdout",
     "text": [
      "tensor([[1., 0., 1., 1., 1., 0., 1., 1., 1., 0., 1., 1.],\n        [1., 0., 1., 1., 1., 0., 1., 1., 1., 0., 1., 1.],\n        [1., 0., 1., 1., 1., 0., 1., 1., 1., 0., 1., 1.],\n        [1., 0., 1., 1., 1., 0., 1., 1., 1., 0., 1., 1.]])\n"
     ]
    }
   ],
   "source": [
    "t1 = torch.cat([tensor, tensor, tensor], dim=1)\n",
    "print(t1)"
   ]
  },
  {
   "cell_type": "code",
   "execution_count": 16,
   "metadata": {},
   "outputs": [
    {
     "output_type": "stream",
     "name": "stdout",
     "text": [
      "tensor([[1., 0., 1., 1.],\n        [1., 0., 1., 1.],\n        [1., 0., 1., 1.],\n        [1., 0., 1., 1.],\n        [1., 0., 1., 1.],\n        [1., 0., 1., 1.],\n        [1., 0., 1., 1.],\n        [1., 0., 1., 1.],\n        [1., 0., 1., 1.],\n        [1., 0., 1., 1.],\n        [1., 0., 1., 1.],\n        [1., 0., 1., 1.]])\n"
     ]
    }
   ],
   "source": [
    "t2 = torch.cat([tensor, tensor, tensor], dim=0)\n",
    "print(t2)"
   ]
  },
  {
   "cell_type": "code",
   "execution_count": 17,
   "metadata": {},
   "outputs": [
    {
     "output_type": "stream",
     "name": "stdout",
     "text": [
      "tensor([[1., 0., 1., 1., 1., 0., 1., 1., 1., 0., 1., 1.],\n        [1., 0., 1., 1., 1., 0., 1., 1., 1., 0., 1., 1.],\n        [1., 0., 1., 1., 1., 0., 1., 1., 1., 0., 1., 1.],\n        [1., 0., 1., 1., 1., 0., 1., 1., 1., 0., 1., 1.]])\n"
     ]
    }
   ],
   "source": [
    "t3 = torch.cat([tensor, tensor, tensor], dim=-1)\n",
    "print(t3)"
   ]
  },
  {
   "cell_type": "code",
   "execution_count": 18,
   "metadata": {},
   "outputs": [
    {
     "output_type": "stream",
     "name": "stdout",
     "text": [
      "tensor([[1., 0., 1., 1.],\n        [1., 0., 1., 1.],\n        [1., 0., 1., 1.],\n        [1., 0., 1., 1.],\n        [1., 0., 1., 1.],\n        [1., 0., 1., 1.],\n        [1., 0., 1., 1.],\n        [1., 0., 1., 1.],\n        [1., 0., 1., 1.],\n        [1., 0., 1., 1.],\n        [1., 0., 1., 1.],\n        [1., 0., 1., 1.]])\n"
     ]
    }
   ],
   "source": [
    "t4 = torch.cat([tensor, tensor, tensor], dim=-2)\n",
    "print(t4)"
   ]
  },
  {
   "source": [
    "### Multiplying tensors\n",
    "* Element-wise product\n",
    "* Matrix multiplication\n",
    "* Matrix * Vector"
   ],
   "cell_type": "markdown",
   "metadata": {}
  },
  {
   "cell_type": "code",
   "execution_count": 22,
   "metadata": {},
   "outputs": [
    {
     "output_type": "stream",
     "name": "stdout",
     "text": [
      "tensor.mul(tensor)\n tensor([[1., 0., 1., 1.],\n        [1., 0., 1., 1.],\n        [1., 0., 1., 1.],\n        [1., 0., 1., 1.]]) \n\ntensor*tensor \n tensor([[1., 0., 1., 1.],\n        [1., 0., 1., 1.],\n        [1., 0., 1., 1.],\n        [1., 0., 1., 1.]]) \n\ntorch.mul(x, y) \n tensor([[1., 0., 1., 1.],\n        [1., 0., 1., 1.],\n        [1., 0., 1., 1.],\n        [1., 0., 1., 1.]])\n"
     ]
    }
   ],
   "source": [
    "# Element-wise\n",
    "print(f\"tensor.mul(tensor)\\n {tensor.mul(tensor)} \\n\")\n",
    "# Alternative syntax\n",
    "print(f\"tensor*tensor \\n {tensor * tensor} \\n\")\n",
    "\n",
    "# Use torch\n",
    "print(f\"torch.mul(x, y) \\n {torch.mul(tensor, tensor)}\")"
   ]
  },
  {
   "cell_type": "code",
   "execution_count": 23,
   "metadata": {},
   "outputs": [
    {
     "output_type": "stream",
     "name": "stdout",
     "text": [
      "tensor.matmul(tensor.T) \n tensor([[3., 3., 3., 3.],\n        [3., 3., 3., 3.],\n        [3., 3., 3., 3.],\n        [3., 3., 3., 3.]]) \n\ntensor @ tensor.T \n tensor([[3., 3., 3., 3.],\n        [3., 3., 3., 3.],\n        [3., 3., 3., 3.],\n        [3., 3., 3., 3.]]) \n\ntorch.mm(tensor, tensor) \n tensor([[3., 0., 3., 3.],\n        [3., 0., 3., 3.],\n        [3., 0., 3., 3.],\n        [3., 0., 3., 3.]])\n"
     ]
    }
   ],
   "source": [
    "# Matrix multiplicaiton\n",
    "print(f\"tensor.matmul(tensor.T) \\n {tensor.matmul(tensor.T)} \\n\")\n",
    "# Alternative syntax\n",
    "print(f\"tensor @ tensor.T \\n {tensor @ tensor.T} \\n\")\n",
    "\n",
    "# Use torch\n",
    "print(f\"torch.mm(tensor, tensor) \\n {torch.mm(tensor, tensor)}\") # Needs the size of two tensors fit"
   ]
  },
  {
   "cell_type": "code",
   "execution_count": 27,
   "metadata": {},
   "outputs": [
    {
     "output_type": "stream",
     "name": "stdout",
     "text": [
      "torch.mv(tensor, vector) \n tensor([-1.6657, -1.6657, -1.6657, -1.6657])\n"
     ]
    }
   ],
   "source": [
    "# Use torch\n",
    "print(f\"torch.mv(tensor, vector) \\n {torch.mv(tensor, vector)}\")"
   ]
  },
  {
   "source": [
    "### In-place operations\n",
    "Have a `_` suffix. E.g., `x.copy_(y)`, `x.t_()`, will change `x`."
   ],
   "cell_type": "markdown",
   "metadata": {}
  },
  {
   "cell_type": "code",
   "execution_count": 28,
   "metadata": {},
   "outputs": [
    {
     "output_type": "stream",
     "name": "stdout",
     "text": [
      "tensor([[1., 0., 1., 1.],\n        [1., 0., 1., 1.],\n        [1., 0., 1., 1.],\n        [1., 0., 1., 1.]]) \n\ntensor([[6., 5., 6., 6.],\n        [6., 5., 6., 6.],\n        [6., 5., 6., 6.],\n        [6., 5., 6., 6.]])\n"
     ]
    }
   ],
   "source": [
    "print(tensor, \"\\n\")\n",
    "tensor.add_(5)\n",
    "print(tensor)"
   ]
  },
  {
   "source": [
    "## Bridge with Numpy\n",
    "Tensors on the CPU and Numpy arrays share their underlying memory locations.  \n",
    "Changing one will change the other."
   ],
   "cell_type": "markdown",
   "metadata": {}
  },
  {
   "source": [
    "### Tensor to Numpy array"
   ],
   "cell_type": "markdown",
   "metadata": {}
  },
  {
   "cell_type": "code",
   "execution_count": 29,
   "metadata": {},
   "outputs": [
    {
     "output_type": "stream",
     "name": "stdout",
     "text": [
      "t: tensor([1., 1., 1., 1., 1.])\nn: [1. 1. 1. 1. 1.]\n"
     ]
    }
   ],
   "source": [
    "t = torch.ones(5)\n",
    "print(f\"t: {t}\")\n",
    "n = t.numpy()\n",
    "print(f\"n: {n}\")"
   ]
  },
  {
   "source": [
    "A change in the tensor will also change the Numpy array."
   ],
   "cell_type": "markdown",
   "metadata": {}
  },
  {
   "cell_type": "code",
   "execution_count": 30,
   "metadata": {},
   "outputs": [
    {
     "output_type": "stream",
     "name": "stdout",
     "text": [
      "t: tensor([2., 2., 2., 2., 2.])\nn: [2. 2. 2. 2. 2.]\n"
     ]
    }
   ],
   "source": [
    "t.add_(1)\n",
    "print(f\"t: {t}\")\n",
    "print(f\"n: {n}\")"
   ]
  },
  {
   "source": [
    "### Numpy array to Tensor"
   ],
   "cell_type": "markdown",
   "metadata": {}
  },
  {
   "cell_type": "code",
   "execution_count": 31,
   "metadata": {},
   "outputs": [
    {
     "output_type": "stream",
     "name": "stdout",
     "text": [
      "n: [1. 1. 1. 1. 1. 1.]\nt: tensor([1., 1., 1., 1., 1., 1.], dtype=torch.float64)\n"
     ]
    }
   ],
   "source": [
    "n = np.ones(6)\n",
    "t = torch.from_numpy(n)\n",
    "print(f\"n: {n}\")\n",
    "print(f\"t: {t}\")"
   ]
  },
  {
   "source": [
    "Changes in the Numpy array also changes the tensor."
   ],
   "cell_type": "markdown",
   "metadata": {}
  },
  {
   "cell_type": "code",
   "execution_count": 32,
   "metadata": {},
   "outputs": [
    {
     "output_type": "stream",
     "name": "stdout",
     "text": [
      "n: [2. 2. 2. 2. 2. 2.]\nt: tensor([2., 2., 2., 2., 2., 2.], dtype=torch.float64)\n"
     ]
    }
   ],
   "source": [
    "np.add(n, 1, out=n)\n",
    "print(f\"n: {n}\")\n",
    "print(f\"t: {t}\")"
   ]
  }
 ]
}