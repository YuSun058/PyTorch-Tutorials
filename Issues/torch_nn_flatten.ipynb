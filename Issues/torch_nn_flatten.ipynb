{
 "metadata": {
  "language_info": {
   "codemirror_mode": {
    "name": "ipython",
    "version": 3
   },
   "file_extension": ".py",
   "mimetype": "text/x-python",
   "name": "python",
   "nbconvert_exporter": "python",
   "pygments_lexer": "ipython3",
   "version": "3.7.6-final"
  },
  "orig_nbformat": 2,
  "kernelspec": {
   "name": "python3",
   "display_name": "Python 3.7.6 64-bit (conda)",
   "metadata": {
    "interpreter": {
     "hash": "e8fd100a2c8866ae2d3e8b85cd01e709724ac0af43a714c586c6afac94a5cb88"
    }
   }
  }
 },
 "nbformat": 4,
 "nbformat_minor": 2,
 "cells": [
  {
   "source": [
    "Let's think that we have code"
   ],
   "cell_type": "markdown",
   "metadata": {}
  },
  {
   "cell_type": "code",
   "execution_count": 23,
   "metadata": {},
   "outputs": [
    {
     "output_type": "stream",
     "name": "stdout",
     "text": [
      "torch.Size([1024, 1])\n"
     ]
    }
   ],
   "source": [
    "import torch\n",
    "\n",
    "a = torch.rand(1024, 100)\n",
    "\n",
    "model = torch.nn.Sequential(\n",
    "    torch.nn.Linear(100, 50),\n",
    "    torch.nn.ReLU(),\n",
    "    torch.nn.Linear(50, 1),\n",
    ")\n",
    "\n",
    "print(model(a).shape)"
   ]
  },
  {
   "source": [
    "The shape would be `torch.Size([1024, 1])`, but sometimes it would be more convenient to have a shape `torch.Size([1024])` instead. If we had `torch.nn.Flatten`, we can simply do:"
   ],
   "cell_type": "markdown",
   "metadata": {}
  },
  {
   "cell_type": "code",
   "execution_count": 24,
   "metadata": {},
   "outputs": [
    {
     "output_type": "stream",
     "name": "stdout",
     "text": [
      "torch.Size([1024])\n"
     ]
    }
   ],
   "source": [
    "import torch\n",
    "\n",
    "a = torch.rand(1024, 100)\n",
    "\n",
    "model = torch.nn.Sequential(\n",
    "    torch.nn.Linear(100, 50),\n",
    "    torch.nn.ReLU(),\n",
    "    torch.nn.Linear(50, 1),\n",
    "    torch.nn.Flatten(start_dim=0)\n",
    ")\n",
    "\n",
    "print(model(a).shape)"
   ]
  },
  {
   "source": [
    "Next, we see the difference between these two kinds of dimensions."
   ],
   "cell_type": "markdown",
   "metadata": {}
  },
  {
   "cell_type": "code",
   "execution_count": 25,
   "metadata": {},
   "outputs": [
    {
     "output_type": "stream",
     "name": "stdout",
     "text": [
      "tensor([0.8841, 0.6823, 0.7191,  ..., 0.8666, 0.4570, 0.3795])\ntorch.Size([1024])\n"
     ]
    }
   ],
   "source": [
    "x = torch.rand(1024)\n",
    "print(x)\n",
    "print(x.shape)"
   ]
  },
  {
   "cell_type": "code",
   "execution_count": 26,
   "metadata": {},
   "outputs": [
    {
     "output_type": "stream",
     "name": "stdout",
     "text": [
      "tensor([[0.6229],\n        [0.4665],\n        [0.3840],\n        ...,\n        [0.4929],\n        [0.4358],\n        [0.3515]])\ntorch.Size([1024, 1])\n"
     ]
    }
   ],
   "source": [
    "y = torch.rand(1024, 1)\n",
    "print(y)\n",
    "print(y.shape)"
   ]
  },
  {
   "cell_type": "code",
   "execution_count": null,
   "metadata": {},
   "outputs": [],
   "source": []
  }
 ]
}