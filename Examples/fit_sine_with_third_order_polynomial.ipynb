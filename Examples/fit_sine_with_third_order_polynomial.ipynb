{
 "metadata": {
  "language_info": {
   "codemirror_mode": {
    "name": "ipython",
    "version": 3
   },
   "file_extension": ".py",
   "mimetype": "text/x-python",
   "name": "python",
   "nbconvert_exporter": "python",
   "pygments_lexer": "ipython3",
   "version": "3.7.6-final"
  },
  "orig_nbformat": 2,
  "kernelspec": {
   "name": "python3",
   "display_name": "Python 3.7.6 64-bit ('Softwares': virtualenv)",
   "metadata": {
    "interpreter": {
     "hash": "e8fd100a2c8866ae2d3e8b85cd01e709724ac0af43a714c586c6afac94a5cb88"
    }
   }
  }
 },
 "nbformat": 4,
 "nbformat_minor": 2,
 "cells": [
  {
   "source": [
    "# Fit $y=sin(x)$ with a third order polynomial\n",
    "\n",
    "In PyTorch, the nn package defines a set of Modules, which are roughly equivalent to neural network layers. A Module receives input Tensors and computes output Tensors, but may also hold internal state such as Tensors containing learnable parameters. The nn package also defines a set of useful loss functions that are commonly used when training neural networks."
   ],
   "cell_type": "markdown",
   "metadata": {}
  },
  {
   "source": [
    "## `nn` package"
   ],
   "cell_type": "markdown",
   "metadata": {}
  },
  {
   "cell_type": "code",
   "execution_count": 1,
   "metadata": {},
   "outputs": [],
   "source": [
    "import torch\n",
    "import math"
   ]
  },
  {
   "cell_type": "code",
   "execution_count": 2,
   "metadata": {},
   "outputs": [
    {
     "output_type": "stream",
     "name": "stdout",
     "text": [
      "x= tensor([-3.1416, -3.1384, -3.1353,  ...,  3.1353,  3.1384,  3.1416])\n\ny= tensor([ 8.7423e-08, -3.1430e-03, -6.2863e-03,  ...,  6.2863e-03,\n         3.1432e-03, -8.7423e-08])\n\ntorch.Size([2000]) torch.Size([2000])\n"
     ]
    }
   ],
   "source": [
    "# Create Tensors to hold input and outputs.\n",
    "x = torch.linspace(-math.pi, math.pi, 2000)\n",
    "y = torch.sin(x)\n",
    "print(f\"x= {x}\\n\")\n",
    "print(f\"y= {y}\\n\")\n",
    "print(x.shape, y.shape)"
   ]
  },
  {
   "source": [
    "For this example, the output y is a linear function of $(x, x^2, x^3)$, so we can consider it as a linear layer neural network. Let's prepare the tensor $(x, x^2, x^3)$."
   ],
   "cell_type": "markdown",
   "metadata": {}
  },
  {
   "cell_type": "code",
   "execution_count": 3,
   "metadata": {},
   "outputs": [
    {
     "output_type": "stream",
     "name": "stdout",
     "text": [
      "x.unsqueeze(-1) =\n tensor([[-3.1416],\n        [-3.1384],\n        [-3.1353],\n        ...,\n        [ 3.1353],\n        [ 3.1384],\n        [ 3.1416]])\n\nx.unsqueeze(-1).shape = torch.Size([2000, 1])\n\nxx = tensor([[ -3.1416,   9.8696, -31.0063],\n        [ -3.1384,   9.8499, -30.9133],\n        [ -3.1353,   9.8301, -30.8205],\n        ...,\n        [  3.1353,   9.8301,  30.8205],\n        [  3.1384,   9.8499,  30.9133],\n        [  3.1416,   9.8696,  31.0063]])\n\nxx.shape = torch.Size([2000, 3])\n\n"
     ]
    }
   ],
   "source": [
    "p = torch.tensor([1, 2, 3])\n",
    "xx = x.unsqueeze(-1).pow(p)\n",
    "print(f\"x.unsqueeze(-1) =\\n {x.unsqueeze(-1)}\\n\")\n",
    "print(f\"x.unsqueeze(-1).shape = {x.unsqueeze(-1).shape}\\n\")\n",
    "print(f\"xx = {xx}\\n\")\n",
    "print(f\"xx.shape = {xx.shape}\\n\")"
   ]
  },
  {
   "source": [
    "Use the nn package to define our model as a sequence of layers.   \n",
    "`nn.Sequential` is a Module which contains other Modules, and applies them in sequence to produce its output. The Linear Module computes output from input using a linear function, and holds internal Tensors for its weight and bias.  \n",
    "The Flatten layer flatens the output of the linear layer to a 1D tensor, to match the shape of `y`."
   ],
   "cell_type": "markdown",
   "metadata": {}
  },
  {
   "cell_type": "code",
   "execution_count": 4,
   "metadata": {},
   "outputs": [],
   "source": [
    "model = torch.nn.Sequential(\n",
    "    torch.nn.Linear(3, 1),\n",
    "    torch.nn.Flatten(0, 1)# Flattens a contiguous range of dims into a tensor.                                      torch.nn.Flatten(start_dim: int = 1, end_dim: int = -1)\n",
    ")"
   ]
  },
  {
   "source": [
    "The nn package also contains definitions of popular loss functions; in this case we will use Mean Squared Error (MSE) as our loss function."
   ],
   "cell_type": "markdown",
   "metadata": {}
  },
  {
   "cell_type": "code",
   "execution_count": 5,
   "metadata": {},
   "outputs": [],
   "source": [
    "loss_fn = torch.nn.MSELoss(reduction='sum')"
   ]
  },
  {
   "cell_type": "code",
   "execution_count": 6,
   "metadata": {},
   "outputs": [],
   "source": [
    "learning_rate = 1e-6"
   ]
  },
  {
   "cell_type": "code",
   "execution_count": 7,
   "metadata": {},
   "outputs": [
    {
     "output_type": "stream",
     "name": "stdout",
     "text": [
      "200-th epoch: MSE = 420.2522888183594\n",
      "400-th epoch: MSE = 194.13136291503906\n",
      "600-th epoch: MSE = 92.5570068359375\n",
      "800-th epoch: MSE = 46.79005432128906\n",
      "1000-th epoch: MSE = 26.10063934326172\n",
      "1200-th epoch: MSE = 16.714818954467773\n",
      "1400-th epoch: MSE = 12.440919876098633\n",
      "1600-th epoch: MSE = 10.487028121948242\n",
      "1800-th epoch: MSE = 9.590081214904785\n",
      "2000-th epoch: MSE = 9.176529884338379\n",
      "2200-th epoch: MSE = 8.98501968383789\n",
      "2400-th epoch: MSE = 8.895927429199219\n",
      "2600-th epoch: MSE = 8.854293823242188\n",
      "2800-th epoch: MSE = 8.834747314453125\n",
      "3000-th epoch: MSE = 8.82552719116211\n"
     ]
    }
   ],
   "source": [
    "for t in range(3000):\n",
    "\n",
    "    # Forward pass: compute predicted y by passing x to the model. Module objects\n",
    "    # override the __call__ operator so you can call them like functions. When\n",
    "    # doing so you pass a Tensor of input data to the Module and it produces\n",
    "    # a Tensor of output data.\n",
    "    y_pred = model(xx)\n",
    "\n",
    "    # Compute and print loss. We pass Tensors containing the predicted and true\n",
    "    # values of y, and the loss function returns a Tensor containing the\n",
    "    # loss.\n",
    "    loss = loss_fn(y_pred, y)\n",
    "    if t % 200 == 199:\n",
    "        print(f\"{t+1}-th epoch: MSE = {loss.item()}\") # '.item()' is to obtain its value\n",
    "\n",
    "    # Zero the gradients before running the backward pass.\n",
    "    model.zero_grad()\n",
    "\n",
    "    # Backward pass: compute gradient of the loss with respect to all the learnable\n",
    "    # parameters of the model. Internally, the parameters of each Module are stored\n",
    "    # in Tensors with requires_grad=True, so this call will compute gradients for\n",
    "    # all learnable parameters in the model.\n",
    "    loss.backward()\n",
    "\n",
    "    # Update the weights using gradient descent. Each parameter is a Tensor, so\n",
    "    # we can access its gradients like we did before.\n",
    "    with torch.no_grad():\n",
    "        for param in model.parameters():\n",
    "            param -= learning_rate * param.grad"
   ]
  },
  {
   "cell_type": "code",
   "execution_count": 8,
   "metadata": {},
   "outputs": [
    {
     "output_type": "stream",
     "name": "stdout",
     "text": [
      "Linear(in_features=3, out_features=1, bias=True)\nParameter containing:\ntensor([-0.0024], requires_grad=True)\nParameter containing:\ntensor([[ 8.5504e-01,  4.2100e-04, -9.3089e-02]], requires_grad=True)\n"
     ]
    }
   ],
   "source": [
    "# You can access the first layer of `model` like accessing the first item of a list\n",
    "linear_layer = model[0]\n",
    "print(linear_layer)\n",
    "print(linear_layer.bias)\n",
    "print(linear_layer.weight)"
   ]
  },
  {
   "cell_type": "code",
   "execution_count": 9,
   "metadata": {},
   "outputs": [
    {
     "output_type": "stream",
     "name": "stdout",
     "text": [
      "The third order polynomial aproximation of sine function is :\n\ty = -0.0024403163697570562 + 0.8550443649291992 x + 0.00042099523125216365 x^2 + -0.09308907389640808 x^3\n"
     ]
    }
   ],
   "source": [
    "# For linear layer, its parameters are stored as `weight` and `bias`.\n",
    "print(f'The third order polynomial aproximation of sine function is :\\n\\ty = {linear_layer.bias.item()} + {linear_layer.weight[:, 0].item()} x + {linear_layer.weight[:, 1].item()} x^2 + {linear_layer.weight[:, 2].item()} x^3')"
   ]
  },
  {
   "source": [
    "___"
   ],
   "cell_type": "markdown",
   "metadata": {}
  },
  {
   "source": [
    "## Optim package\n",
    "\n",
    "Up to this point we have updated the weights of our models by manually mutating the Tensors holding learnable parameters with `torch.no_grad()`. This is not a huge burden for simple optimization algorithms like stochastic gradient descent, but in practice we often train neural networks using more sophisticated optimizers like **Adagrad, RMSProp, Adam**, etc.\n",
    "\n",
    "The optim package in PyTorch abstracts the idea of an optimization algorithm and provides implementations of commonly used optimization algorithms.\n",
    "\n",
    "In this example we will use the nn package to define our model as before, but we will optimize the model using the RMSprop algorithm provided by the optim package:"
   ],
   "cell_type": "markdown",
   "metadata": {}
  },
  {
   "cell_type": "code",
   "execution_count": 10,
   "metadata": {},
   "outputs": [],
   "source": [
    "import torch\n",
    "import math\n",
    "\n",
    "\n",
    "# Create Tensors to hold input and outputs.\n",
    "x = torch.linspace(-math.pi, math.pi, 2000)\n",
    "y = torch.sin(x)\n",
    "\n",
    "# Prepare the input tensor (x, x^2, x^3).\n",
    "p = torch.tensor([1, 2, 3])\n",
    "xx = x.unsqueeze(-1).pow(p)\n",
    "\n",
    "# Use the nn package to define our model and loss function.\n",
    "model = torch.nn.Sequential(\n",
    "    torch.nn.Linear(3, 1),\n",
    "    torch.nn.Flatten(0, 1)\n",
    ")\n",
    "loss_fn = torch.nn.MSELoss(reduction='sum')"
   ]
  },
  {
   "cell_type": "code",
   "execution_count": 11,
   "metadata": {},
   "outputs": [],
   "source": [
    "# Use the optim package to define an Optimizer that will update the weights of\n",
    "# the model for us. Here we will use RMSprop; the optim package contains many other\n",
    "# optimization algorithms. The first argument to the RMSprop constructor tells the\n",
    "# optimizer which Tensors it should update.\n",
    "learning_rate = 1e-3\n",
    "optimizer = torch.optim.RMSprop(model.parameters(), lr=learning_rate)\n",
    "# optimizer = torch.optim.Adagrad(model.parameters(), lr=learning_rate)\n",
    "# optimizer = torch.optim.Adam(model.parameters(), lr=learning_rate)"
   ]
  },
  {
   "cell_type": "code",
   "execution_count": 12,
   "metadata": {},
   "outputs": [
    {
     "output_type": "stream",
     "name": "stdout",
     "text": [
      "200-th epoch: MSE = 143.6226348876953\n",
      "400-th epoch: MSE = 54.95341491699219\n",
      "600-th epoch: MSE = 15.61046314239502\n",
      "800-th epoch: MSE = 8.947502136230469\n",
      "1000-th epoch: MSE = 8.973044395446777\n",
      "1200-th epoch: MSE = 8.841585159301758\n",
      "1400-th epoch: MSE = 8.927045822143555\n",
      "1600-th epoch: MSE = 8.915283203125\n",
      "1800-th epoch: MSE = 8.92263126373291\n",
      "2000-th epoch: MSE = 8.91980266571045\n",
      "2200-th epoch: MSE = 8.921185493469238\n",
      "2400-th epoch: MSE = 8.920588493347168\n",
      "2600-th epoch: MSE = 8.920843124389648\n",
      "2800-th epoch: MSE = 8.92072868347168\n",
      "3000-th epoch: MSE = 8.920766830444336\n",
      "The third order polynomial aproximation of sine function is :\n",
      "\ty = 0.0004999875091016293 + 0.8562408089637756 x + 0.0004999732482247055 x^2 + -0.09383039176464081 x^3\n"
     ]
    }
   ],
   "source": [
    "for t in range(3000):\n",
    "    # Forward pass: compute predicted y by passing x to the model.\n",
    "    y_pred = model(xx)\n",
    "\n",
    "    # Compute and print loss.\n",
    "    loss = loss_fn(y_pred, y)\n",
    "    if t % 200 == 199:\n",
    "        print(f\"{t+1}-th epoch: MSE = {loss.item()}\")\n",
    "\n",
    "    # Before the backward pass, use the optimizer object to zero all of the\n",
    "    # gradients for the variables it will update (which are the learnable\n",
    "    # weights of the model). This is because by default, gradients are\n",
    "    # accumulated in buffers( i.e, not overwritten) whenever .backward()\n",
    "    # is called. Checkout docs of torch.autograd.backward for more details.\n",
    "    optimizer.zero_grad()\n",
    "\n",
    "    # Backward pass: compute gradient of the loss with respect to model\n",
    "    # parameters\n",
    "    loss.backward()\n",
    "\n",
    "    # Calling the step function on an Optimizer makes an update to its\n",
    "    # parameters\n",
    "    optimizer.step()\n",
    "\n",
    "\n",
    "linear_layer = model[0]\n",
    "print(f'The third order polynomial aproximation of sine function is :\\n\\ty = {linear_layer.bias.item()} + {linear_layer.weight[:, 0].item()} x + {linear_layer.weight[:, 1].item()} x^2 + {linear_layer.weight[:, 2].item()} x^3')"
   ]
  }
 ]
}